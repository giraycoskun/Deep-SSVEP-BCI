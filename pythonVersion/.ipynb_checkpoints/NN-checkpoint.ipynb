{
 "cells": [
  {
   "cell_type": "markdown",
   "metadata": {},
   "source": [
    "# ENS 491 Project"
   ]
  },
  {
   "cell_type": "code",
   "execution_count": 1,
   "metadata": {},
   "outputs": [
    {
     "data": {
      "text/plain": [
       "'/Users/giraycoskun/Documents/MATLAB/Deep-SSVEP-BCI'"
      ]
     },
     "execution_count": 1,
     "metadata": {},
     "output_type": "execute_result"
    }
   ],
   "source": [
    "import os\n",
    "os.chdir(os.path.normpath(os.getcwd() + os.sep + os.pardir))\n",
    "os.getcwd()"
   ]
  },
  {
   "cell_type": "code",
   "execution_count": 2,
   "metadata": {
    "scrolled": true
   },
   "outputs": [
    {
     "name": "stdout",
     "output_type": "stream",
     "text": [
      "INFO:tensorflow:Enabling eager execution\n",
      "INFO:tensorflow:Enabling v2 tensorshape\n",
      "INFO:tensorflow:Enabling resource variables\n",
      "INFO:tensorflow:Enabling tensor equality\n",
      "INFO:tensorflow:Enabling control flow v2\n"
     ]
    }
   ],
   "source": [
    "import keras"
   ]
  },
  {
   "cell_type": "code",
   "execution_count": 3,
   "metadata": {},
   "outputs": [],
   "source": [
    "import tensorflow as tf"
   ]
  },
  {
   "cell_type": "code",
   "execution_count": 4,
   "metadata": {},
   "outputs": [],
   "source": [
    "import numpy as np\n",
    "import matplotlib.pyplot as plt"
   ]
  },
  {
   "cell_type": "code",
   "execution_count": 5,
   "metadata": {},
   "outputs": [],
   "source": [
    "from scipy.io import loadmat\n",
    "from scipy.fft import fft, fftfreq\n",
    "from scipy.signal import cheby1, filtfilt"
   ]
  },
  {
   "cell_type": "code",
   "execution_count": 6,
   "metadata": {},
   "outputs": [],
   "source": [
    "import time"
   ]
  },
  {
   "cell_type": "markdown",
   "metadata": {},
   "source": [
    "## Benchmark Dataset\n",
    "\n",
    "data: [64×1500×40×6 double]"
   ]
  },
  {
   "cell_type": "code",
   "execution_count": 7,
   "metadata": {},
   "outputs": [],
   "source": [
    "total_subject = 35\n",
    "total_block = 6\n",
    "total_target = 40\n",
    "total_channel = 64\n",
    "\n",
    "sampling_rate = 250\n",
    "visual_cue = 0.5\n",
    "visual_latency = 0.136\n",
    "signal_length = 6\n",
    "\n",
    "total_delay = visual_latency+visual_cue\n",
    "delay_sample_point = round(total_delay*sampling_rate)"
   ]
  },
  {
   "cell_type": "code",
   "execution_count": 8,
   "metadata": {},
   "outputs": [],
   "source": [
    "sample_length = sampling_rate*signal_length\n",
    "sample_interval = np.arange((delay_sample_point+1), delay_sample_point+sample_length+1)"
   ]
  },
  {
   "cell_type": "code",
   "execution_count": 9,
   "metadata": {},
   "outputs": [],
   "source": [
    "target_freqs = np.zeros(shape=(total_target))\n",
    "idx = 8;\n",
    "for i in range(0,total_target,8):\n",
    "    target_freqs[i:i+8] = np.arange(idx,idx+8,1)\n",
    "    idx += 0.2"
   ]
  },
  {
   "cell_type": "markdown",
   "metadata": {},
   "source": [
    "## BETA Dataset"
   ]
  },
  {
   "cell_type": "markdown",
   "metadata": {},
   "source": [
    "## Data Import\n",
    "\n",
    "Creates **data_dict** with key as subject o and the value is the data of the subject"
   ]
  },
  {
   "cell_type": "code",
   "execution_count": 10,
   "metadata": {},
   "outputs": [],
   "source": [
    "dataset_name = \"Bench\"\n",
    "#datasetname = \"BETA\""
   ]
  },
  {
   "cell_type": "code",
   "execution_count": 11,
   "metadata": {},
   "outputs": [],
   "source": [
    "data_file = os.path.join(os.getcwd(),\"DATA\", dataset_name)"
   ]
  },
  {
   "cell_type": "code",
   "execution_count": 12,
   "metadata": {},
   "outputs": [
    {
     "data": {
      "text/plain": [
       "'/Users/giraycoskun/Documents/MATLAB/Deep-SSVEP-BCI/DATA/Bench'"
      ]
     },
     "execution_count": 12,
     "metadata": {},
     "output_type": "execute_result"
    }
   ],
   "source": [
    "data_file"
   ]
  },
  {
   "cell_type": "code",
   "execution_count": 13,
   "metadata": {},
   "outputs": [],
   "source": [
    "Data = np.empty(shape=(total_channel, sample_length, total_target, total_block, total_subject))"
   ]
  },
  {
   "cell_type": "code",
   "execution_count": 14,
   "metadata": {
    "scrolled": true
   },
   "outputs": [
    {
     "data": {
      "text/plain": [
       "(64, 1500, 40, 6, 35)"
      ]
     },
     "execution_count": 14,
     "metadata": {},
     "output_type": "execute_result"
    }
   ],
   "source": [
    "Data.shape"
   ]
  },
  {
   "cell_type": "code",
   "execution_count": 15,
   "metadata": {},
   "outputs": [],
   "source": [
    "for subject in range(total_subject):\n",
    "    data = loadmat(os.path.join(data_file, (\"S\"+str(subject+1)) )) #returns dict\n",
    "    Data[:,:,:,:,subject] = data['data'] "
   ]
  },
  {
   "cell_type": "code",
   "execution_count": 16,
   "metadata": {},
   "outputs": [
    {
     "data": {
      "text/plain": [
       "[<matplotlib.lines.Line2D at 0x7fc35f5e89a0>]"
      ]
     },
     "execution_count": 16,
     "metadata": {},
     "output_type": "execute_result"
    },
    {
     "data": {
      "image/png": "[encoded data removed]",
      "text/plain": [
       "<Figure size 432x288 with 1 Axes>"
      ]
     },
     "metadata": {
      "needs_background": "light"
     },
     "output_type": "display_data"
    }
   ],
   "source": [
    "sample_signal = Data[0,:,0,0,0]\n",
    "plt.plot(sample_signal)"
   ]
  },
  {
   "cell_type": "markdown",
   "metadata": {},
   "source": [
    "## Preprocess\n",
    "\n",
    "designfilt('bandpassiir','FilterOrder',filter_order, ...\n",
    "        'PassBandFrequency1',low_cutoff(i),'PassBandFrequency2',high_cutoff(i),...\n",
    "\t\t'PassBandRipple',PassBandRipple_val,...\n",
    "\t\t'DesignMethod','cheby1','SampleRate',sampling_rate); "
   ]
  },
  {
   "cell_type": "code",
   "execution_count": 17,
   "metadata": {},
   "outputs": [],
   "source": [
    "signalLength = 5\n",
    "samplingRate = sampling_rate\n",
    "sampleLength = sampling_rate*signalLength\n",
    "sampleInterval = np.arange((delay_sample_point+1), delay_sample_point+sampleLength+1)"
   ]
  },
  {
   "cell_type": "code",
   "execution_count": 18,
   "metadata": {},
   "outputs": [],
   "source": [
    "subjectNum = total_subject\n",
    "targetNum = total_target\n",
    "blockNum = total_block\n",
    "channels = np.arange(0,64)\n",
    "channelNum = len(channels)\n",
    "subbanNum = 3"
   ]
  },
  {
   "cell_type": "code",
   "execution_count": null,
   "metadata": {},
   "outputs": [],
   "source": [
    "#https://docs.scipy.org/doc/scipy/reference/generated/scipy.signal.cheby1.html#scipy.signal.cheby1\n",
    "filter_order = 2\n",
    "passband_ripple = 1\n",
    "low_cut = np.arange(8,(subbanNum+1)*8,8)\n",
    "high_cut = 90"
   ]
  },
  {
   "cell_type": "code",
   "execution_count": null,
   "metadata": {},
   "outputs": [],
   "source": [
    "filter_dict = dict()\n",
    "for k in range(subbanNum):\n",
    "    b, a = cheby1( N = filter_order,\n",
    "           rp = passband_ripple,\n",
    "           Wn = [low_cut[k],high_cut],\n",
    "           btype = 'bandpass',\n",
    "           fs = sampling_rate)\n",
    "    filter_dict[k] = (b, a)"
   ]
  },
  {
   "cell_type": "code",
   "execution_count": null,
   "metadata": {},
   "outputs": [],
   "source": [
    "b = filter_dict[0][0]\n",
    "a = filter_dict[0][1]"
   ]
  },
  {
   "cell_type": "code",
   "execution_count": null,
   "metadata": {},
   "outputs": [],
   "source": [
    "filtered = filtfilt(b, a, sample_signal)"
   ]
  },
  {
   "cell_type": "code",
   "execution_count": null,
   "metadata": {
    "scrolled": true
   },
   "outputs": [],
   "source": [
    "plt.plot((filtered))"
   ]
  },
  {
   "cell_type": "code",
   "execution_count": null,
   "metadata": {},
   "outputs": [],
   "source": [
    "processedData = np.zeros(shape=(channelNum, sampleLength, targetNum, blockNum, subjectNum, subbanNum))\n",
    "labelData = np.zeros(shape=(1, targetNum, blockNum, subjectNum))"
   ]
  },
  {
   "cell_type": "code",
   "execution_count": null,
   "metadata": {},
   "outputs": [],
   "source": [
    "processedData.shape"
   ]
  },
  {
   "cell_type": "code",
   "execution_count": null,
   "metadata": {},
   "outputs": [],
   "source": [
    "labelData.shape"
   ]
  },
  {
   "cell_type": "code",
   "execution_count": null,
   "metadata": {},
   "outputs": [],
   "source": [
    "for subject in range(subjectNum):\n",
    "    for target in range(targetNum):\n",
    "        for block in range(blockNum):\n",
    "                for channel in range(channelNum):\n",
    "                    for subban in range(subbanNum):\n",
    "                        b = filter_dict[subban][0]\n",
    "                        a = filter_dict[subban][1]\n",
    "                        processedData[channel,:,target,block,subject,subban] = filtfilt(b, a, Data[channel,sampleInterval,target,block,subject])\n",
    "                        labelData[0,target,block,subject] = target "
   ]
  },
  {
   "cell_type": "code",
   "execution_count": 19,
   "metadata": {},
   "outputs": [],
   "source": [
    "def Preprocess(subjectNum, targetNum, blockNum, channels, subbanNum, sampleLength, sampleInterval, samplingRate, Data):\n",
    "    filter_order = 2\n",
    "    passband_ripple = 1\n",
    "    low_cut = np.arange(8,(subbanNum+1)*8,8)\n",
    "    high_cut = 90\n",
    "    \n",
    "    filter_dict = dict()\n",
    "    for k in range(subbanNum):\n",
    "        b, a = cheby1( N = filter_order,\n",
    "               rp = passband_ripple,\n",
    "               Wn = [low_cut[k],high_cut],\n",
    "               btype = 'bandpass',\n",
    "               fs = sampling_rate)\n",
    "        filter_dict[k] = (b, a)\n",
    "    b = filter_dict[0][0]\n",
    "    a = filter_dict[0][1]\n",
    "    processedData = np.zeros(shape=(channelNum, sampleLength, targetNum, blockNum, subjectNum, subbanNum))\n",
    "    labelData = np.zeros(shape=(1, targetNum, blockNum, subjectNum))\n",
    "    for subject in range(subjectNum):\n",
    "        for target in range(targetNum):\n",
    "            for block in range(blockNum):\n",
    "                for channel in range(channelNum):\n",
    "                    for subban in range(subbanNum):\n",
    "                        b = filter_dict[subban][0]\n",
    "                        a = filter_dict[subban][1]\n",
    "                        processedData[channel,:,target,block,subject,subban] = filtfilt(b, a, Data[channel,sampleInterval,target,block,subject])\n",
    "                        labelData[0,target,block,subject] = target \n",
    "    return processedData, labelData"
   ]
  },
  {
   "cell_type": "code",
   "execution_count": 20,
   "metadata": {},
   "outputs": [],
   "source": [
    "start = time.time()"
   ]
  },
  {
   "cell_type": "code",
   "execution_count": 21,
   "metadata": {},
   "outputs": [
    {
     "ename": "KeyboardInterrupt",
     "evalue": "",
     "output_type": "error",
     "traceback": [
      "\u001b[0;31m---------------------------------------------------------------------------\u001b[0m",
      "\u001b[0;31mKeyboardInterrupt\u001b[0m                         Traceback (most recent call last)",
      "\u001b[0;32m<ipython-input-21-9f9bbc502f2b>\u001b[0m in \u001b[0;36m<module>\u001b[0;34m\u001b[0m\n\u001b[0;32m----> 1\u001b[0;31m processedData, labelData = Preprocess(subjectNum, targetNum, blockNum, \n\u001b[0m\u001b[1;32m      2\u001b[0m                                       \u001b[0mchannels\u001b[0m\u001b[0;34m,\u001b[0m \u001b[0msubbanNum\u001b[0m\u001b[0;34m,\u001b[0m \u001b[0msampleLength\u001b[0m\u001b[0;34m,\u001b[0m\u001b[0;34m\u001b[0m\u001b[0;34m\u001b[0m\u001b[0m\n\u001b[1;32m      3\u001b[0m                                       sampleInterval, samplingRate, Data)\n",
      "\u001b[0;32m<ipython-input-19-b41cec0701e2>\u001b[0m in \u001b[0;36mPreprocess\u001b[0;34m(subjectNum, targetNum, blockNum, channels, subbanNum, sampleLength, sampleInterval, samplingRate, Data)\u001b[0m\n\u001b[1;32m     24\u001b[0m                         \u001b[0mb\u001b[0m \u001b[0;34m=\u001b[0m \u001b[0mfilter_dict\u001b[0m\u001b[0;34m[\u001b[0m\u001b[0msubban\u001b[0m\u001b[0;34m]\u001b[0m\u001b[0;34m[\u001b[0m\u001b[0;36m0\u001b[0m\u001b[0;34m]\u001b[0m\u001b[0;34m\u001b[0m\u001b[0;34m\u001b[0m\u001b[0m\n\u001b[1;32m     25\u001b[0m                         \u001b[0ma\u001b[0m \u001b[0;34m=\u001b[0m \u001b[0mfilter_dict\u001b[0m\u001b[0;34m[\u001b[0m\u001b[0msubban\u001b[0m\u001b[0;34m]\u001b[0m\u001b[0;34m[\u001b[0m\u001b[0;36m1\u001b[0m\u001b[0;34m]\u001b[0m\u001b[0;34m\u001b[0m\u001b[0;34m\u001b[0m\u001b[0m\n\u001b[0;32m---> 26\u001b[0;31m                         \u001b[0mprocessedData\u001b[0m\u001b[0;34m[\u001b[0m\u001b[0mchannel\u001b[0m\u001b[0;34m,\u001b[0m\u001b[0;34m:\u001b[0m\u001b[0;34m,\u001b[0m\u001b[0mtarget\u001b[0m\u001b[0;34m,\u001b[0m\u001b[0mblock\u001b[0m\u001b[0;34m,\u001b[0m\u001b[0msubject\u001b[0m\u001b[0;34m,\u001b[0m\u001b[0msubban\u001b[0m\u001b[0;34m]\u001b[0m \u001b[0;34m=\u001b[0m \u001b[0mfiltfilt\u001b[0m\u001b[0;34m(\u001b[0m\u001b[0mb\u001b[0m\u001b[0;34m,\u001b[0m \u001b[0ma\u001b[0m\u001b[0;34m,\u001b[0m \u001b[0mData\u001b[0m\u001b[0;34m[\u001b[0m\u001b[0mchannel\u001b[0m\u001b[0;34m,\u001b[0m\u001b[0msampleInterval\u001b[0m\u001b[0;34m,\u001b[0m\u001b[0mtarget\u001b[0m\u001b[0;34m,\u001b[0m\u001b[0mblock\u001b[0m\u001b[0;34m,\u001b[0m\u001b[0msubject\u001b[0m\u001b[0;34m]\u001b[0m\u001b[0;34m)\u001b[0m\u001b[0;34m\u001b[0m\u001b[0;34m\u001b[0m\u001b[0m\n\u001b[0m\u001b[1;32m     27\u001b[0m                         \u001b[0mlabelData\u001b[0m\u001b[0;34m[\u001b[0m\u001b[0;36m0\u001b[0m\u001b[0;34m,\u001b[0m\u001b[0mtarget\u001b[0m\u001b[0;34m,\u001b[0m\u001b[0mblock\u001b[0m\u001b[0;34m,\u001b[0m\u001b[0msubject\u001b[0m\u001b[0;34m]\u001b[0m \u001b[0;34m=\u001b[0m \u001b[0mtarget\u001b[0m\u001b[0;34m\u001b[0m\u001b[0;34m\u001b[0m\u001b[0m\n\u001b[1;32m     28\u001b[0m     \u001b[0;32mreturn\u001b[0m \u001b[0mprocessedData\u001b[0m\u001b[0;34m,\u001b[0m \u001b[0mlabelData\u001b[0m\u001b[0;34m\u001b[0m\u001b[0;34m\u001b[0m\u001b[0m\n",
      "\u001b[0;31mKeyboardInterrupt\u001b[0m: "
     ]
    }
   ],
   "source": [
    "processedData, labelData = Preprocess(subjectNum, targetNum, blockNum, \n",
    "                                      channels, subbanNum, sampleLength, \n",
    "                                      sampleInterval, samplingRate, Data)"
   ]
  },
  {
   "cell_type": "code",
   "execution_count": 22,
   "metadata": {},
   "outputs": [
    {
     "name": "stdout",
     "output_type": "stream",
     "text": [
      "Elapsed Time:  1790.657269001007\n",
      "Sample Length:  1250\n"
     ]
    }
   ],
   "source": [
    "end = time.time()\n",
    "print(\"Elapsed Time: \", (end - start))\n",
    "print(\"Sample Length: \", sampleLength)"
   ]
  },
  {
   "cell_type": "code",
   "execution_count": null,
   "metadata": {},
   "outputs": [],
   "source": [
    "processsedData.shape"
   ]
  },
  {
   "cell_type": "code",
   "execution_count": null,
   "metadata": {},
   "outputs": [],
   "source": [
    "labelData.shape"
   ]
  },
  {
   "cell_type": "markdown",
   "metadata": {},
   "source": [
    "## Get FFT Results"
   ]
  },
  {
   "cell_type": "code",
   "execution_count": null,
   "metadata": {},
   "outputs": [],
   "source": [
    "rank = 0\n",
    "N = total_target*total_block*total_subject #8400"
   ]
  },
  {
   "cell_type": "code",
   "execution_count": null,
   "metadata": {},
   "outputs": [],
   "source": [
    "means_r = []\n",
    "means_a =[]\n",
    "means_b = []\n",
    "vars_r = []\n",
    "cov_a = []\n",
    "cov_b = []\n",
    "traces_a = []\n",
    "traces_b = []"
   ]
  },
  {
   "cell_type": "code",
   "execution_count": null,
   "metadata": {},
   "outputs": [],
   "source": [
    "sample_points = np.arange(50, sampleLength+50, 50)\n",
    "signal_lengths = np.divide(sample_points, 250)"
   ]
  },
  {
   "cell_type": "code",
   "execution_count": null,
   "metadata": {},
   "outputs": [],
   "source": [
    "for idx in range(len(signal_lengths)):\n",
    "    sample_length = signal_lengths(idx)*sampling_rate\n",
    "    sample_interval = (delay_sample_point+1):delay_sample_point+sample_lengthx\n",
    "    #AllData,y_AllData=Preprocess2(channels,sample_length,sample_interval,subban_no,total_subject,total_block,total_character,sampling_rate,dataset);\n",
    "    \n",
    "    \n",
    "    T = samp_pts(idx)\n",
    "    \n",
    "    S = sampling_rate; %sampling rate = 250\n",
    "    t = linspace(1/S, T/S, T); %t = 1/S, 2/S, ... , T/S\n"
   ]
  },
  {
   "cell_type": "code",
   "execution_count": null,
   "metadata": {},
   "outputs": [],
   "source": [
    "sampleLength"
   ]
  },
  {
   "cell_type": "code",
   "execution_count": null,
   "metadata": {},
   "outputs": [],
   "source": [
    "samp_pts = (50:50:1250);\n",
    "\n",
    "signal_lengths = samp_pts./250;\n",
    "for idx = 1:length(samp_pts)\n",
    "    sample_length = signal_lengths(idx)*sampling_rate;\n",
    "    sample_interval = (delay_sample_point+1):delay_sample_point+sample_length;\n",
    "    [AllData,y_AllData]=Preprocess2(channels,sample_length,sample_interval,subban_no,total_subject,total_block,total_character,sampling_rate,dataset);\n",
    "    \n",
    "    \n",
    "    T = samp_pts(idx);\n",
    "    \n",
    "    S = sampling_rate; %sampling rate = 250\n",
    "    t = linspace(1/S, T/S, T); %t = 1/S, 2/S, ... , T/S\n",
    "\n",
    "    max_as = [];\n",
    "    max_bs =[];\n",
    "    max_rs = [];\n",
    "    for subj = 1:total_subject\n",
    "        for char_chosen = 1:total_character\n",
    "            for block_chosen = 1:total_block\n",
    "                %X -> channels, datapoints in time T, bandpass = 1, target, block, subject                \n",
    "                    X = AllData(:, (1:T), 1,char_chosen , block_chosen, subj); %[8 x 750] -Block, subband ve subject secimi?\n",
    "                    %create harmonics given the frequency of the characters\n",
    "                    r_list = [];\n",
    "                    A_list = [];\n",
    "                    B_list = [];\n",
    "                    \n",
    "                    if rank == 0\n",
    "                        f = char_freqs(char_chosen); %character frequency\n",
    "                        Y = [sin(2*pi*f*t);\n",
    "                            cos(2*pi*f*t); \n",
    "                            sin(4*pi*f*t);\n",
    "                            cos(4*pi*f*t);\n",
    "                            sin(6*pi*f*t);\n",
    "                            cos(6*pi*f*t);\n",
    "                            sin(8*pi*f*t);\n",
    "                            cos(8*pi*f*t);\n",
    "                            sin(10*pi*f*t);\n",
    "                            cos(10*pi*f*t)];  %y(t) 6 x 750 \n",
    "\n",
    "\n",
    "                            [A,B,r,U,V,stats] = canoncorr(X',Y');\n",
    "                            r_list(end+1) = r(1);\n",
    "                            A_list = [A_list A(:,1)];\n",
    "                            B_list = [B_list B(:,1)];\n",
    "                        \n",
    "                    else  \n",
    "                        for target = 1:total_character\n",
    "                            %create harmonics given the frequency of the characters\n",
    "                            f = char_freqs(target); %character frequency\n",
    "                            Y = [sin(2*pi*f*t);\n",
    "                                cos(2*pi*f*t); \n",
    "                                sin(4*pi*f*t);\n",
    "                                cos(4*pi*f*t);\n",
    "                                sin(6*pi*f*t);\n",
    "                                cos(6*pi*f*t);\n",
    "                                sin(8*pi*f*t);\n",
    "                                cos(8*pi*f*t);\n",
    "                                sin(10*pi*f*t);\n",
    "                                cos(10*pi*f*t)];  %y(t) 6 x 750 \n",
    "\n",
    "\n",
    "                            [A,B,r,U,V,stats] = canoncorr(X',Y');\n",
    "                            r_list(end+1) = r(1);\n",
    "                            A_list = [A_list A(:,1)];\n",
    "                            B_list = [B_list B(:,1)];\n",
    "                        end\n",
    "                    end\n",
    "                    %TODO with rank\n",
    "                    max_cor = max(r_list);\n",
    "                    found_char = find(r_list==max_cor); %return the index with maximum corr coeffient (r)\n",
    "                    max_a = A_list(:,found_char);\n",
    "                    max_b = B_list(:,found_char);\n",
    "\n",
    "                    max_as = [max_as max_a];\n",
    "                    max_bs = [max_bs max_b];\n",
    "                    max_rs(end+1) = max(r_list);\n",
    "            end\n",
    "        end\n",
    "    end\n",
    "    \n",
    "    means_r(end+1) = mean(max_rs);\n",
    "    vars_r(end+1) = var(max_rs);\n",
    "\n",
    "    %center matrices\n",
    "    t = size(max_as);\n",
    "    rows = t(1);\n",
    "    for i = 1:rows\n",
    "        cent_as(i,:) = max_as(i,:) - mean(max_as(i,:));\n",
    "        cent_bs(i,:) = max_bs(i,:) - mean(max_bs(i,:));\n",
    "    end\n",
    "\n",
    "    cov_as = cent_as * cent_as' / N;\n",
    "    cov_bs = cent_bs * cent_bs' / N;\n",
    "\n",
    "\n",
    "    trace_as = trace(cov_as);\n",
    "    trace_bs = trace(cov_bs);\n",
    "    traces_a = [traces_a trace_as];\n",
    "    traces_b = [traces_b trace_bs];\n",
    "\n",
    "    means_a = [means_a mean(mean(max_as))];\n",
    "    means_b = [means_b mean(mean(max_bs))];\n",
    "end"
   ]
  }
 ],
 "metadata": {
  "kernelspec": {
   "display_name": "ens-env",
   "language": "python",
   "name": "ens-env"
  },
  "language_info": {
   "codemirror_mode": {
    "name": "ipython",
    "version": 3
   },
   "file_extension": ".py",
   "mimetype": "text/x-python",
   "name": "python",
   "nbconvert_exporter": "python",
   "pygments_lexer": "ipython3",
   "version": "3.9.2"
  }
 },
 "nbformat": 4,
 "nbformat_minor": 4
}
